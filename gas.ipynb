{
 "cells": [
  {
   "cell_type": "code",
   "execution_count": 2,
   "metadata": {},
   "outputs": [
    {
     "name": "stdout",
     "output_type": "stream",
     "text": [
      "Total:78.33333333333333\n",
      " Main tank: 80%\n",
      "External tank: 70%\n",
      "Hydrogen tank: 85%\n"
     ]
    }
   ],
   "source": [
    "def Gas(mt, et, ht):\n",
    "    prom = (mt+et+ht)/3\n",
    "    return f\"Total:{prom}\\n Main tank: {mt}%\\nExternal tank: {et}%\\nHydrogen tank: {ht}%\"\n",
    "\n",
    "print(Gas(80, 70, 85))"
   ]
  },
  {
   "cell_type": "markdown",
   "metadata": {},
   "source": [
    "Gas"
   ]
  },
  {
   "cell_type": "code",
   "execution_count": 3,
   "metadata": {},
   "outputs": [
    {
     "name": "stdout",
     "output_type": "stream",
     "text": [
      "Mission to Moon\n",
      "Total travel time: 65 minutes\n",
      "Total fuel left: 500000 gallons\n"
     ]
    }
   ],
   "source": [
    "def report(td, tf, d, te, ti):\n",
    "     return f\"Mission to {d}\\nTotal travel time: {td + tf} minutes\\nTotal fuel left: {te + ti} gallons\"\n",
    "print(report(14, 51, \"Moon\", 200000, 300000))"
   ]
  },
  {
   "cell_type": "markdown",
   "metadata": {},
   "source": [
    "Gas2\n"
   ]
  }
 ],
 "metadata": {
  "interpreter": {
   "hash": "31f2aee4e71d21fbe5cf8b01ff0e069b9275f58929596ceb00d14d90e3e16cd6"
  },
  "kernelspec": {
   "display_name": "Python 3.8.10 64-bit",
   "language": "python",
   "name": "python3"
  },
  "language_info": {
   "codemirror_mode": {
    "name": "ipython",
    "version": 3
   },
   "file_extension": ".py",
   "mimetype": "text/x-python",
   "name": "python",
   "nbconvert_exporter": "python",
   "pygments_lexer": "ipython3",
   "version": "3.8.10"
  },
  "orig_nbformat": 4
 },
 "nbformat": 4,
 "nbformat_minor": 2
}
