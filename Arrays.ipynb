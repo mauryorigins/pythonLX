{
 "cells": [
  {
   "cell_type": "code",
   "execution_count": 1,
   "metadata": {},
   "outputs": [
    {
     "name": "stdout",
     "output_type": "stream",
     "text": [
      "8\n",
      "9\n",
      "pluto\n"
     ]
    }
   ],
   "source": [
    "planets = ['Mercury', 'Venus', 'Earth', 'Mars', 'Jupiter', 'Saturn', 'Uranus', 'Neptune']\n",
    "print(len(planets))\n",
    "planets.append(\"pluto\")\n",
    "length = len(planets)\n",
    "print(length)\n",
    "print(planets[length-1])\n"
   ]
  },
  {
   "cell_type": "code",
   "execution_count": 6,
   "metadata": {},
   "outputs": [
    {
     "name": "stdout",
     "output_type": "stream",
     "text": [
      "Mercury, el planeta que elejiste es cercano al sol.\n",
      "Es el planeta mas cercano al sol\n"
     ]
    }
   ],
   "source": [
    "planets = ['Mercury', 'Venus', 'Earth', 'Mars', 'Jupiter', 'Saturn', 'Uranus', 'Neptune']\n",
    "userPlanet = input()\n",
    "x = planets.index(userPlanet)\n",
    "if x < 4:\n",
    "    if x == 0:\n",
    "        print(f\"{planets[x]}, el planeta que elejiste es cercano al sol.\")\n",
    "        print(\"Es el planeta mas cercano al sol\")\n",
    "    else:\n",
    "        print(f\"{planets[x]}, el planeta que elejiste es cercano al sol.\")\n",
    "        print(planets[0:x])\n",
    "else:\n",
    "    print(f\"{planets[x]}, el planeta que elejiste esta alejado al sol.\")\n",
    "    print(planets[x+1:])\n"
   ]
  },
  {
   "cell_type": "markdown",
   "metadata": {},
   "source": [
    "Working data list"
   ]
  },
  {
   "cell_type": "markdown",
   "metadata": {},
   "source": [
    "Listas"
   ]
  }
 ],
 "metadata": {
  "interpreter": {
   "hash": "31f2aee4e71d21fbe5cf8b01ff0e069b9275f58929596ceb00d14d90e3e16cd6"
  },
  "kernelspec": {
   "display_name": "Python 3.8.10 64-bit",
   "language": "python",
   "name": "python3"
  },
  "language_info": {
   "codemirror_mode": {
    "name": "ipython",
    "version": 3
   },
   "file_extension": ".py",
   "mimetype": "text/x-python",
   "name": "python",
   "nbconvert_exporter": "python",
   "pygments_lexer": "ipython3",
   "version": "3.8.10"
  },
  "orig_nbformat": 4
 },
 "nbformat": 4,
 "nbformat_minor": 2
}
