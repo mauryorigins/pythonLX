{
 "cells": [
  {
   "cell_type": "code",
   "execution_count": 5,
   "metadata": {},
   "outputs": [
    {
     "name": "stdout",
     "output_type": "stream",
     "text": [
      "Ingresda el numero\n",
      "10\n"
     ]
    }
   ],
   "source": [
    "print(\"Ingresda el numero\")\n",
    "planet = input()\n",
    "number = int(planet)\n",
    "print(abs(number))"
   ]
  },
  {
   "cell_type": "markdown",
   "metadata": {},
   "source": [
    "string to numbers"
   ]
  },
  {
   "cell_type": "code",
   "execution_count": 4,
   "metadata": {},
   "outputs": [
    {
     "name": "stdout",
     "output_type": "stream",
     "text": [
      "Distancia en Km: 628949330\n",
      "Distancia en millas: 390577534\n"
     ]
    }
   ],
   "source": [
    "Tierra = 149597870 \n",
    "Jupiter = 778547200\n",
    "\n",
    "suma = Jupiter - Tierra\n",
    "\n",
    "print(f\"Distancia en Km: {suma}\")\n",
    "print(f\"Distancia en millas: {round(suma * 0.621)}\" )"
   ]
  },
  {
   "cell_type": "markdown",
   "metadata": {},
   "source": [
    "Planets diferece"
   ]
  }
 ],
 "metadata": {
  "interpreter": {
   "hash": "31f2aee4e71d21fbe5cf8b01ff0e069b9275f58929596ceb00d14d90e3e16cd6"
  },
  "kernelspec": {
   "display_name": "Python 3.8.10 64-bit",
   "language": "python",
   "name": "python3"
  },
  "language_info": {
   "codemirror_mode": {
    "name": "ipython",
    "version": 3
   },
   "file_extension": ".py",
   "mimetype": "text/x-python",
   "name": "python",
   "nbconvert_exporter": "python",
   "pygments_lexer": "ipython3",
   "version": "3.8.10"
  },
  "orig_nbformat": 4
 },
 "nbformat": 4,
 "nbformat_minor": 2
}
