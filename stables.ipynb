{
 "cells": [
  {
   "cell_type": "code",
   "execution_count": 17,
   "metadata": {},
   "outputs": [],
   "source": [
    "# Tip de práctica 1: Intenta ejecutarlo en un notebook.\n",
    "a = 97\n",
    "b = 55\n",
    "# test expression / expresión de prueba\n",
    "if a < b:\n",
    "    # statement to be run / instrucción a ejecutar\n",
    "    print(b)"
   ]
  },
  {
   "cell_type": "code",
   "execution_count": 18,
   "metadata": {},
   "outputs": [
    {
     "name": "stdout",
     "output_type": "stream",
     "text": [
      "93\n"
     ]
    }
   ],
   "source": [
    "# Aplica el tip de práctica 1.\n",
    "a = 93\n",
    "b = 27\n",
    "if a >= b:\n",
    "    print(a)"
   ]
  },
  {
   "cell_type": "code",
   "execution_count": 19,
   "metadata": {},
   "outputs": [
    {
     "name": "stdout",
     "output_type": "stream",
     "text": [
      "93\n"
     ]
    }
   ],
   "source": [
    "a = 93\n",
    "b = 27\n",
    "if a >= b:\n",
    "    print(a)\n",
    "else:\n",
    "    print(b)"
   ]
  },
  {
   "cell_type": "code",
   "execution_count": 20,
   "metadata": {},
   "outputs": [
    {
     "name": "stdout",
     "output_type": "stream",
     "text": [
      "a es mayor o igual que b\n"
     ]
    }
   ],
   "source": [
    "a = 93\n",
    "b = 27\n",
    "if a >= b:\n",
    "    print(\"a es mayor o igual que b\")\n",
    "elif a == b:\n",
    "    print(\"a es igual que b\")"
   ]
  },
  {
   "cell_type": "code",
   "execution_count": 21,
   "metadata": {},
   "outputs": [
    {
     "name": "stdout",
     "output_type": "stream",
     "text": [
      "a es menor que b\n"
     ]
    }
   ],
   "source": [
    "a = 16\n",
    "b = 25\n",
    "c = 27\n",
    "if a > b:\n",
    "    if b > c:\n",
    "        print (\"a es mayor que b y b es mayor que c\")\n",
    "    else: \n",
    "        print (\"a es mayor que b y menor que c\")\n",
    "elif a == b:\n",
    "    print (\"a es igual que b\")\n",
    "else:\n",
    "    print (\"a es menor que b\")"
   ]
  },
  {
   "cell_type": "code",
   "execution_count": 22,
   "metadata": {},
   "outputs": [
    {
     "name": "stdout",
     "output_type": "stream",
     "text": [
      "57\n"
     ]
    }
   ],
   "source": [
    "a = 23\n",
    "b = 34\n",
    "if a == 34 or b == 34:\n",
    "    print(a + b)"
   ]
  },
  {
   "cell_type": "code",
   "execution_count": 28,
   "metadata": {},
   "outputs": [
    {
     "name": "stdout",
     "output_type": "stream",
     "text": [
      "nada\n"
     ]
    }
   ],
   "source": [
    "a = 19\n",
    "if a > 20:\n",
    "  print(\"lucesitas en el cielo\")\n",
    "elif a == 20:\n",
    "  print(\"lucesitas en el cielo\")\n",
    "else:\n",
    "  print(\"nada\")"
   ]
  },
  {
   "cell_type": "markdown",
   "metadata": {},
   "source": [
    "problema 2"
   ]
  },
  {
   "cell_type": "code",
   "execution_count": 23,
   "metadata": {},
   "outputs": [],
   "source": [
    "a = 23\n",
    "b = 34\n",
    "if a == 34 and b == 34:\n",
    "    print (a + b)"
   ]
  },
  {
   "cell_type": "code",
   "execution_count": 27,
   "metadata": {},
   "outputs": [
    {
     "name": "stdout",
     "output_type": "stream",
     "text": [
      "Warnig\n"
     ]
    }
   ],
   "source": [
    "asteroide = 49\n",
    "if a > 25:\n",
    "    print(\"Warnig\")\n",
    "else:\n",
    "    print(\"Not Warnig\")\n",
    "        "
   ]
  },
  {
   "cell_type": "markdown",
   "metadata": {},
   "source": [
    "problema 1"
   ]
  },
  {
   "cell_type": "markdown",
   "metadata": {},
   "source": [
    "El operador and\n"
   ]
  },
  {
   "cell_type": "markdown",
   "metadata": {},
   "source": [
    "El operador or\n"
   ]
  },
  {
   "cell_type": "markdown",
   "metadata": {},
   "source": [
    "Trabajar con lógica condicional anidada\n"
   ]
  },
  {
   "cell_type": "code",
   "execution_count": 25,
   "metadata": {},
   "outputs": [
    {
     "name": "stdout",
     "output_type": "stream",
     "text": [
      "a es mayor que b\n"
     ]
    }
   ],
   "source": [
    "a = 93\n",
    "b = 27\n",
    "if a > b:\n",
    "    print(\"a es mayor que b\")\n",
    "elif a < b:\n",
    "    print(\"a es menor que b\")\n",
    "else: \n",
    "    print (\"a es igual que b\")"
   ]
  },
  {
   "cell_type": "markdown",
   "metadata": {},
   "source": [
    "Combinar declaraciones if , elif, y else\n"
   ]
  },
  {
   "cell_type": "markdown",
   "metadata": {},
   "source": [
    "Trabajando con elif\n"
   ]
  },
  {
   "cell_type": "markdown",
   "metadata": {},
   "source": [
    "Trabajando con else\n"
   ]
  },
  {
   "cell_type": "markdown",
   "metadata": {},
   "source": [
    "Escribir declaraciones if\n"
   ]
  },
  {
   "cell_type": "markdown",
   "metadata": {},
   "source": [
    "Expresiones de prueba\n"
   ]
  }
 ],
 "metadata": {
  "interpreter": {
   "hash": "31f2aee4e71d21fbe5cf8b01ff0e069b9275f58929596ceb00d14d90e3e16cd6"
  },
  "kernelspec": {
   "display_name": "Python 3.8.10 64-bit",
   "language": "python",
   "name": "python3"
  },
  "language_info": {
   "codemirror_mode": {
    "name": "ipython",
    "version": 3
   },
   "file_extension": ".py",
   "mimetype": "text/x-python",
   "name": "python",
   "nbconvert_exporter": "python",
   "pygments_lexer": "ipython3",
   "version": "3.8.10"
  },
  "orig_nbformat": 4
 },
 "nbformat": 4,
 "nbformat_minor": 2
}
